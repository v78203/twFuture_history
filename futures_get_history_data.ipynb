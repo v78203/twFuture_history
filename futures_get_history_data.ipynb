{
 "cells": [
  {
   "cell_type": "code",
   "execution_count": 98,
   "metadata": {
    "collapsed": true
   },
   "outputs": [],
   "source": [
    "# 建立資料庫\n",
    "def creat_db():\n",
    "    import sqlite3\n",
    "    conn = sqlite3.connect('history_data.db')\n",
    "    c = conn.cursor()\n",
    "\n",
    "    c.execute('''DROP TABLE feature_history''')\n",
    "\n",
    "    # Create table\n",
    "    c.execute('''CREATE TABLE feature_history\n",
    "                 (date text, type text ,upward real, downward real, sum real, delta real)''')\n",
    "\n",
    "    # Insert a row of data\n",
    "    # c.execute(\"INSERT INTO stocks VALUES ('2006-01-05','BUY','RHAT',100,35.14)\")\n",
    "\n",
    "    # Save (commit) the changes\n",
    "    conn.commit()\n",
    "\n",
    "    # We can also close the connection if we are done with it.\n",
    "    # Just be sure any changes have been committed or they will be lost.\n",
    "    conn.close()"
   ]
  },
  {
   "cell_type": "code",
   "execution_count": 37,
   "metadata": {},
   "outputs": [
    {
     "name": "stdout",
     "output_type": "stream",
     "text": [
      "2014-01-01\n",
      "2014-01-02\n",
      "2014-01-03\n",
      "2014-01-04\n",
      "2014-01-05\n",
      "2014-01-06\n",
      "2014-01-07\n",
      "2014-01-08\n",
      "2014-01-09\n",
      "2014-01-10\n"
     ]
    },
    {
     "data": {
      "text/plain": [
       "datetime.date(2017, 7, 10)"
      ]
     },
     "execution_count": 37,
     "metadata": {},
     "output_type": "execute_result"
    }
   ],
   "source": [
    "# 測試date格式的for迴圈\n",
    "from datetime import date\n",
    "from dateutil.rrule import rrule, DAILY\n",
    "\n",
    "a = date(2014, 1, 1)\n",
    "b = date(2014, 1, 10)\n",
    "\n",
    "for dt in rrule(DAILY, dtstart=a, until=b):\n",
    "    print(dt.strftime(\"%Y-%m-%d\"))\n",
    "    \n",
    "# 測試取得今天的日期\n",
    "from datetime import datetime\n",
    "datetime.today().date()"
   ]
  },
  {
   "cell_type": "code",
   "execution_count": 68,
   "metadata": {
    "collapsed": true
   },
   "outputs": [],
   "source": [
    "def insert_to_sqlite(data1,data2,data3):\n",
    "    import sqlite3\n",
    "    conn = sqlite3.connect('history_data.db')\n",
    "    c = conn.cursor()\n",
    "    data = [data1,data2,data3]\n",
    "    c.executemany('INSERT INTO feature_history VALUES (?,?,?,?,?,?)', data)\n",
    "    conn.commit()\n",
    "    conn.close()"
   ]
  },
  {
   "cell_type": "code",
   "execution_count": 58,
   "metadata": {
    "collapsed": true
   },
   "outputs": [],
   "source": [
    "# 給header\n",
    "def get_header():\n",
    "    inputstr = \"\"\"Accept:text/html,application/xhtml+xml,application/xml;q=0.9,image/webp,*/*;q=0.8\n",
    "Accept-Encoding:gzip, deflate\n",
    "Accept-Language:zh-TW,zh;q=0.8,en-US;q=0.6,en;q=0.4,zh-CN;q=0.2,ja;q=0.2\n",
    "Cache-Control:max-age=0\n",
    "Connection:keep-alive\n",
    "Content-Length:239\n",
    "Content-Type:application/x-www-form-urlencoded\n",
    "Cookie:ASPSESSIONIDCAACQTQB=BIGPDFPDPCPAOMHBIBDDPKCM; AX-cookie-POOL_PORTAL=AFACBAKM; AX-cookie-POOL_PORTAL_web3=ADACBAKM; ASPSESSIONIDACCASQQA=GHPJMAHAJIJGNIPAKKNGAEJI; ASPSESSIONIDACADQRQA=IOPCHONBALLMEKGLLKHFNKDF; ASPSESSIONIDCCDBRQQA=FGBDDKKCKBOMHGBAOKPIKKBO; ASPSESSIONIDQSTQDSTD=HLOCDCEAIKLPJNGKNMEDOLEB; ASPSESSIONIDACAARQRA=APEAPNABEDHDPEHFGCLDBLIO; ASPSESSIONIDQSRSCSTD=PMLFDLKBAPNEANNCABCBOIBF; ASPSESSIONIDAADBACQB=IHLODDNBAIJBFIPOAFIAKFAF; ASPSESSIONIDAAABDDQA=LPMLDGLDHOCOIBCGILAMIKGI; ASPSESSIONIDCCCDACRB=MIHICCIAIFNNIIEOMAHGFEAB; ASPSESSIONIDACDDBCRB=OPHLDPBBNBPDAFCKKEKLOEIK; ASPSESSIONIDCADAACQB=OCHOHNLAKEJLBMICPPLJMGAA\n",
    "Host:www.taifex.com.tw\n",
    "Origin:http://www.taifex.com.tw\n",
    "Referer:http://www.taifex.com.tw/chinese/3/3_2_2.asp\n",
    "Upgrade-Insecure-Requests:1\n",
    "User-Agent:Mozilla/5.0 (Macintosh; Intel Mac OS X 10_12_5) AppleWebKit/537.36 (KHTML, like Gecko) Chrome/58.0.3029.110 Safari/537.36\"\"\"\n",
    "    header = {}\n",
    "    for each in inputstr.split('\\n'):\n",
    "        kv = each.split(':')\n",
    "        key = kv[0]\n",
    "        value = ':'.join(kv[1:]) \n",
    "        header[key] = value\n",
    "    return header"
   ]
  },
  {
   "cell_type": "code",
   "execution_count": 52,
   "metadata": {
    "collapsed": true
   },
   "outputs": [],
   "source": [
    "# 把日期插入payload\n",
    "def setdays(eachday):\n",
    "    (year, month, day) = (str(eachday.year), str(eachday.month), str(eachday.day))\n",
    "    inputstr = \"\"\"goday:-1\n",
    "COMMODITY_ID:\"\"\"\n",
    "    payload = {}\n",
    "    for each in inputstr.split('\\n'):\n",
    "        kv = each.split(':')\n",
    "        key = kv[0]\n",
    "        value = ':'.join(kv[1:]) \n",
    "        payload[key] = value\n",
    "    payload['DATA_DATE_Y'] = year\n",
    "    payload['DATA_DATE_M'] = month\n",
    "    payload['DATA_DATE_D'] = day\n",
    "    payload['syear'] = year\n",
    "    payload['smonth'] = month\n",
    "    payload['sday'] = day\n",
    "    payload['datestart'] = year + '/' + month + '/' + day\n",
    "    return payload"
   ]
  },
  {
   "cell_type": "code",
   "execution_count": 41,
   "metadata": {
    "collapsed": true
   },
   "outputs": [],
   "source": [
    "# 取得每日的data\n",
    "def get_data(header,payload):\n",
    "    import requests\n",
    "    from bs4 import BeautifulSoup\n",
    "    res = requests.post('http://www.taifex.com.tw/chinese/3/7_12_3.asp', headers=header ,data = payload)\n",
    "    res.encoding = 'utf-8'\n",
    "    soup = BeautifulSoup(res.text,'lxml')\n",
    "    local = soup.select('#printhere > div')[3].select('table > tbody')[0].select('tr')[1].select('td > table > tbody > tr')[3].text.split()\n",
    "    invester = soup.select('#printhere > div')[3].select('table > tbody')[0].select('tr')[1].select('td > table > tbody > tr')[4].text.split()\n",
    "    foreign = soup.select('#printhere > div')[3].select('table > tbody')[0].select('tr')[1].select('td > table > tbody > tr')[5].text.split()\n",
    "    local.remove(local[0])\n",
    "    local.remove(local[0])\n",
    "    return (local,invester,foreign)"
   ]
  },
  {
   "cell_type": "code",
   "execution_count": 99,
   "metadata": {},
   "outputs": [
    {
     "name": "stdout",
     "output_type": "stream",
     "text": [
      "2017-07-10 00:00:00"
     ]
    }
   ],
   "source": [
    "# 主程式：設定開始跟結束日期，取得資料後存入資料庫\n",
    "from datetime import date\n",
    "from dateutil.rrule import rrule, DAILY\n",
    "import sys\n",
    "\n",
    "startdate = date(2014, 7, 11)\n",
    "enddate = date(2017, 7, 10)\n",
    "header = get_header()\n",
    "previous = (0,0,0)\n",
    "for dt in rrule(DAILY, dtstart=startdate, until=enddate):\n",
    "    try:\n",
    "        sys.stdout.write('\\r' + str(dt))\n",
    "        payload = setdays(dt)\n",
    "        (local,invester,foreign) = get_data(header,payload)\n",
    "        data1 = (str(dt.date()), 'local', local[7].replace(',',''),local[9].replace(',',''),local[11].replace(',',''),int(local[11].replace(',',''))-int(previous[0]))\n",
    "        data2 = (str(dt.date()), 'invester', invester[7].replace(',',''),invester[9].replace(',',''),invester[11].replace(',',''),int(invester[11].replace(',',''))-int(previous[1]))\n",
    "        data3 = (str(dt.date()), 'foreign', foreign[7].replace(',',''),foreign[9].replace(',',''),foreign[11].replace(',',''),int(foreign[11].replace(',',''))-int(previous[2]))\n",
    "        previous = (local[11].replace(',',''),invester[11].replace(',',''),foreign[11].replace(',',''))\n",
    "        insert_to_sqlite(data1,data2,data3)\n",
    "    except IndexError:\n",
    "        pass\n",
    "#         print(dt)"
   ]
  }
 ],
 "metadata": {
  "kernelspec": {
   "display_name": "Python 3",
   "language": "python",
   "name": "python3"
  },
  "language_info": {
   "codemirror_mode": {
    "name": "ipython",
    "version": 3
   },
   "file_extension": ".py",
   "mimetype": "text/x-python",
   "name": "python",
   "nbconvert_exporter": "python",
   "pygments_lexer": "ipython3",
   "version": "3.6.1"
  }
 },
 "nbformat": 4,
 "nbformat_minor": 2
}
